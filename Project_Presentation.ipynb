{
 "cells": [
  {
   "cell_type": "markdown",
   "metadata": {
    "slideshow": {
     "slide_type": "slide"
    }
   },
   "source": [
    "# Predicting Housing Prices using Advanced Regression Techniques"
   ]
  },
  {
   "cell_type": "markdown",
   "metadata": {
    "slideshow": {
     "slide_type": "slide"
    }
   },
   "source": [
    "## Introduction\n",
    "\n",
    "#### Project Scope:\n",
    "\n",
    "Predicting the price of each home in Ames, Iowa. Our dataset describes 79 features which can influence prices of residential homes. Keeping in mind the variety of features and how each of them impact the house price, we have selected this dataset.\n",
    "\n",
    "#### Motivation & purpose: \n",
    "\n",
    "- The predicted prices will enable residents who intend to purchase a house in Ames to understand the price ranges across different areas of the city\n",
    "- This will also be useful for realtors to pitch their final sale price (after adjusting their commission) to their clients\n",
    "\n",
    "#### Dataset:\n",
    "\n",
    "- Continuous Variables – such as linear feet measure of street connected to property, lot size, year built, masonry veneer area in square feet, total square feet of basement area etc.\n",
    "- Categorical Variables – such as basement type, roof materials, lot configuration etc. \n",
    "- Quality Measures – such as external quality, basement quality, external conditions etc. \n"
   ]
  },
  {
   "cell_type": "markdown",
   "metadata": {
    "slideshow": {
     "slide_type": "slide"
    }
   },
   "source": [
    "## Data cleaning & preprocessing\n",
    "\n",
    "#### Detecting outliers\n",
    "![image.png](img1.png)\n",
    "\n",
    "Deleted these two as they are very huge(extremely large areas for very low prices)"
   ]
  },
  {
   "cell_type": "markdown",
   "metadata": {
    "slideshow": {
     "slide_type": "slide"
    }
   },
   "source": [
    "#### Missing values\n",
    "\n",
    "![image.png](img6.png)"
   ]
  },
  {
   "cell_type": "markdown",
   "metadata": {
    "slideshow": {
     "slide_type": "slide"
    }
   },
   "source": [
    "![image.png](img5.png)"
   ]
  },
  {
   "cell_type": "markdown",
   "metadata": {
    "slideshow": {
     "slide_type": "slide"
    }
   },
   "source": [
    "The following columns were dropped since they had more than 80% missing values\n",
    "- PoolQC\n",
    "- MiscFeature\n",
    "- Alley\n",
    "- Fence\n",
    "\n",
    "For many columns, NA values represent absence of that particular feature(based on the data description). Therefore, the following columns were replaced with 'None':\n",
    "- MasVnrType\n",
    "- FireplaceQu\n",
    "- GarageQual\n",
    "- GarageCond\n",
    "- GarageFinish\n",
    "- GarageType\n",
    "- BsmtExposure\n",
    "- BsmtCond\n",
    "- BsmtQual\n",
    "- BsmtFinType1\n",
    "- BsmtFinType2\n",
    "- Utilities\n",
    "- LandSlope\n"
   ]
  },
  {
   "cell_type": "markdown",
   "metadata": {
    "slideshow": {
     "slide_type": "slide"
    }
   },
   "source": [
    "Some features with NaN were filled with their mode, since there are a low number of missing values for these features and also typically most of the houses would have it:\n",
    "- Electrical\n",
    "- KitchenQual\n",
    "- Exterior1\n",
    "- Exterior2\n",
    "- SaleType"
   ]
  },
  {
   "cell_type": "markdown",
   "metadata": {
    "slideshow": {
     "slide_type": "slide"
    }
   },
   "source": [
    "### Feature Engineering\n",
    "\n",
    "#### Factorization : \n",
    "\n",
    "There were couple features which read in as numericals but were actually objects. Hence transformed them to string types - MSSubClass and OverallCond\n"
   ]
  },
  {
   "cell_type": "markdown",
   "metadata": {
    "slideshow": {
     "slide_type": "slide"
    }
   },
   "source": [
    "#### Numerical variables\n",
    "![image.png](img7.png)"
   ]
  },
  {
   "cell_type": "markdown",
   "metadata": {
    "slideshow": {
     "slide_type": "slide"
    }
   },
   "source": [
    "![image.png](img9.png)\n",
    "\n",
    "All features with correlation of above 0.30 were selected."
   ]
  },
  {
   "cell_type": "markdown",
   "metadata": {
    "slideshow": {
     "slide_type": "slide"
    }
   },
   "source": [
    "![image.png](img8.png)"
   ]
  },
  {
   "cell_type": "markdown",
   "metadata": {
    "slideshow": {
     "slide_type": "slide"
    }
   },
   "source": [
    "#### Transformation of skewed variables\n",
    "\n",
    "\n",
    "#### Numerical variables\n",
    "\n",
    "![image.png](img11.png)\n"
   ]
  },
  {
   "cell_type": "markdown",
   "metadata": {
    "slideshow": {
     "slide_type": "slide"
    }
   },
   "source": [
    "#### Target variable : Sale Price\n",
    "\n",
    "![image.png](img3.png)  ![image.png](img4.png) \n"
   ]
  },
  {
   "cell_type": "markdown",
   "metadata": {
    "slideshow": {
     "slide_type": "slide"
    }
   },
   "source": [
    "#### Categorical variables\n",
    "\n",
    "- Check levels of variables to determine the distribution\n",
    "\n",
    "![image.png](img10.png)\n",
    "\n",
    "Variables - utilities and Street were dropped, since their values are in one level"
   ]
  },
  {
   "cell_type": "markdown",
   "metadata": {
    "slideshow": {
     "slide_type": "slide"
    }
   },
   "source": [
    "- Used LabelEncoder for quality measure variables like FireplaceQu, BsmtQual\n",
    "\n",
    "\n",
    "- Dummy encoding for other categorical measures like BsmtExposure, MSZoning"
   ]
  },
  {
   "cell_type": "markdown",
   "metadata": {
    "slideshow": {
     "slide_type": "slide"
    }
   },
   "source": [
    "### Model Building\n",
    "\n",
    "- LASSO Regression - Lasso performs L1 regularization which adds a penalty equal to the absolute value of the magnitude of coefficients\n",
    "\n",
    "\n",
    "- Ridge Regression - Ridge performs L2 regularization which adds a penalty equal to square of the magnitude of coefficients\n",
    "\n",
    "\n",
    "- Elastic Net Regression - It is a hybrid of LASSO and Ridge Regression\n",
    "\n",
    "\n",
    "- Boosting - Produces a prediction model as an ensemble of weak prediction models - XGBoost, LightGBM\n",
    "    \n",
    "    \n",
    "- RandomForest - Ensemble of decision trees trained with the bagging method"
   ]
  },
  {
   "cell_type": "markdown",
   "metadata": {
    "slideshow": {
     "slide_type": "slide"
    }
   },
   "source": [
    "### Model RMSE Comparison\n",
    "\n",
    "![image.png](img12.png)\n"
   ]
  },
  {
   "cell_type": "markdown",
   "metadata": {
    "slideshow": {
     "slide_type": "slide"
    }
   },
   "source": [
    "###  Final Model Selection - LASSO\n",
    "![image.png](img13.png)"
   ]
  }
 ],
 "metadata": {
  "celltoolbar": "Slideshow",
  "kernelspec": {
   "display_name": "Python 3",
   "language": "python",
   "name": "python3"
  },
  "language_info": {
   "codemirror_mode": {
    "name": "ipython",
    "version": 3
   },
   "file_extension": ".py",
   "mimetype": "text/x-python",
   "name": "python",
   "nbconvert_exporter": "python",
   "pygments_lexer": "ipython3",
   "version": "3.7.0"
  }
 },
 "nbformat": 4,
 "nbformat_minor": 2
}
